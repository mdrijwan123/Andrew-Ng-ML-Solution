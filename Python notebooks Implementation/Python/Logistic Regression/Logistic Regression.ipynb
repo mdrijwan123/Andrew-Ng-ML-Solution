{
 "cells": [
  {
   "cell_type": "code",
   "execution_count": 8,
   "metadata": {},
   "outputs": [],
   "source": [
    "import pandas as pd\n",
    "import numpy as np\n",
    "import matplotlib.pyplot as plt\n",
    "from sklearn.linear_model import LogisticRegression\n",
    "from  sklearn.preprocessing import StandardScaler"
   ]
  },
  {
   "cell_type": "code",
   "execution_count": 6,
   "metadata": {},
   "outputs": [],
   "source": [
    "dataset = pd.read_csv(\"ex2data1.txt\",delimiter = ',',header = None)"
   ]
  },
  {
   "cell_type": "code",
   "execution_count": 15,
   "metadata": {},
   "outputs": [],
   "source": [
    "X = dataset.iloc[:,0:-1].values\n",
    "y = dataset.iloc[:,dataset.shape[1]-1].values"
   ]
  },
  {
   "cell_type": "code",
   "execution_count": 20,
   "metadata": {},
   "outputs": [],
   "source": [
    "X = np.c_[np.ones((dataset.shape[0],1)),X]\n",
    "y = np.c_[y[:]]"
   ]
  },
  {
   "cell_type": "code",
   "execution_count": 26,
   "metadata": {},
   "outputs": [
    {
     "name": "stderr",
     "output_type": "stream",
     "text": [
      "C:\\ProgramData\\Anaconda3\\lib\\site-packages\\sklearn\\utils\\validation.py:595: DataConversionWarning: Data with input dtype int64 was converted to float64 by StandardScaler.\n",
      "  warnings.warn(msg, DataConversionWarning)\n",
      "C:\\ProgramData\\Anaconda3\\lib\\site-packages\\sklearn\\utils\\validation.py:595: DataConversionWarning: Data with input dtype int64 was converted to float64 by StandardScaler.\n",
      "  warnings.warn(msg, DataConversionWarning)\n"
     ]
    }
   ],
   "source": [
    "sc_x = StandardScaler()\n",
    "sc_y = StandardScaler()\n",
    "X = sc_x.fit_transform(X)\n",
    "y = sc_y.fit_transform(y)"
   ]
  },
  {
   "cell_type": "code",
   "execution_count": 29,
   "metadata": {},
   "outputs": [],
   "source": [
    "def sigmoid(X,theta):\n",
    "    return (1/(1+np.exp(-X.dot(theta))))"
   ]
  },
  {
   "cell_type": "code",
   "execution_count": 30,
   "metadata": {},
   "outputs": [],
   "source": [
    "def hypothesis(X,theta):\n",
    "    return sigmoid(X,theta)"
   ]
  },
  {
   "cell_type": "code",
   "execution_count": 35,
   "metadata": {},
   "outputs": [
    {
     "data": {
      "text/plain": [
       "array([[5.17312765e-085],\n",
       "       [9.54680148e-101],\n",
       "       [3.34738313e-082],\n",
       "       [1.40646392e-013],\n",
       "       [1.00000000e+000],\n",
       "       [1.50124547e-058],\n",
       "       [6.66932118e-010],\n",
       "       [1.00000000e+000],\n",
       "       [1.00000000e+000],\n",
       "       [1.00000000e+000],\n",
       "       [1.00000000e+000],\n",
       "       [1.00000000e+000],\n",
       "       [1.00000000e+000],\n",
       "       [1.00000000e+000],\n",
       "       [1.13352008e-071],\n",
       "       [2.13705828e-030],\n",
       "       [9.99999989e-001],\n",
       "       [9.99936259e-001],\n",
       "       [1.00000000e+000],\n",
       "       [1.00000000e+000],\n",
       "       [9.93520032e-001],\n",
       "       [1.00000000e+000],\n",
       "       [2.47822466e-044],\n",
       "       [6.99914826e-090],\n",
       "       [1.00000000e+000],\n",
       "       [1.27309298e-009],\n",
       "       [1.00000000e+000],\n",
       "       [1.00000000e+000],\n",
       "       [5.17610255e-013],\n",
       "       [5.74387756e-075],\n",
       "       [9.10970726e-012],\n",
       "       [1.00000000e+000],\n",
       "       [2.04314003e-038],\n",
       "       [6.81900019e-038],\n",
       "       [2.78157628e-070],\n",
       "       [1.19695083e-032],\n",
       "       [1.15091577e-084],\n",
       "       [3.72619085e-003],\n",
       "       [1.00000000e+000],\n",
       "       [1.55603997e-086],\n",
       "       [1.00000000e+000],\n",
       "       [9.29372425e-042],\n",
       "       [1.00000000e+000],\n",
       "       [1.00000000e+000],\n",
       "       [2.98276211e-043],\n",
       "       [9.91108905e-012],\n",
       "       [1.00000000e+000],\n",
       "       [1.00000000e+000],\n",
       "       [3.30291175e-007],\n",
       "       [1.00000000e+000],\n",
       "       [1.00000000e+000],\n",
       "       [1.00000000e+000],\n",
       "       [1.00000000e+000],\n",
       "       [3.11959216e-087],\n",
       "       [6.51345815e-045],\n",
       "       [9.71368805e-046],\n",
       "       [1.00000000e+000],\n",
       "       [1.01727039e-088],\n",
       "       [1.00000000e+000],\n",
       "       [1.00000000e+000],\n",
       "       [1.00000000e+000],\n",
       "       [1.31459462e-086],\n",
       "       [1.30131016e-029],\n",
       "       [9.55265163e-101],\n",
       "       [1.41286700e-058],\n",
       "       [3.62491061e-001],\n",
       "       [9.20387968e-067],\n",
       "       [4.94216636e-048],\n",
       "       [1.00000000e+000],\n",
       "       [9.96578734e-001],\n",
       "       [4.33000361e-094],\n",
       "       [7.50201550e-004],\n",
       "       [1.00000000e+000],\n",
       "       [2.81156547e-014],\n",
       "       [1.96218327e-018],\n",
       "       [1.00000000e+000],\n",
       "       [5.55042195e-049],\n",
       "       [1.43991474e-041],\n",
       "       [1.16380509e-017],\n",
       "       [1.00000000e+000],\n",
       "       [1.00000000e+000],\n",
       "       [1.00000000e+000],\n",
       "       [9.99978224e-001],\n",
       "       [1.16849493e-024],\n",
       "       [1.00000000e+000],\n",
       "       [1.00000000e+000],\n",
       "       [2.31522712e-064],\n",
       "       [1.00000000e+000],\n",
       "       [1.00000000e+000],\n",
       "       [5.15494205e-038],\n",
       "       [1.00000000e+000],\n",
       "       [1.00000000e+000],\n",
       "       [3.78312925e-032],\n",
       "       [1.00000000e+000],\n",
       "       [1.00000000e+000],\n",
       "       [1.00000000e+000],\n",
       "       [6.16929977e-063],\n",
       "       [1.00000000e+000],\n",
       "       [2.67317957e-029],\n",
       "       [1.00000000e+000]])"
      ]
     },
     "execution_count": 35,
     "metadata": {},
     "output_type": "execute_result"
    }
   ],
   "source": [
    "initial_theta = [[0],[123],[4.7]]\n",
    "h = hypothesis(X,initial_theta)\n",
    "h[:]"
   ]
  },
  {
   "cell_type": "code",
   "execution_count": null,
   "metadata": {},
   "outputs": [],
   "source": []
  }
 ],
 "metadata": {
  "kernelspec": {
   "display_name": "Python 3",
   "language": "python",
   "name": "python3"
  },
  "language_info": {
   "codemirror_mode": {
    "name": "ipython",
    "version": 3
   },
   "file_extension": ".py",
   "mimetype": "text/x-python",
   "name": "python",
   "nbconvert_exporter": "python",
   "pygments_lexer": "ipython3",
   "version": "3.6.8"
  }
 },
 "nbformat": 4,
 "nbformat_minor": 2
}
